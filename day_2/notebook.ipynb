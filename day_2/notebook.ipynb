print("Hello World")
print("Waseem")
print(3+4)
print("I am learning python_ka_chilla from Codanis youtube channel.")

