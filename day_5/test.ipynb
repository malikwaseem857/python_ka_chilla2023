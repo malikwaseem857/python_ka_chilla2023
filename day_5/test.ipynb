{
 "cells": [
  {
   "cell_type": "markdown",
   "id": "6199ee08",
   "metadata": {},
   "source": [
    "To separate the code ipynb file formed"
   ]
  },
  {
   "cell_type": "code",
   "execution_count": 3,
   "id": "b5f296f7",
   "metadata": {},
   "outputs": [],
   "source": [
    "# Benefits of markdown\n",
    "# 1.Markdown is a lightweight markup language that is easy to read and write. It is widely used for writing\n"
   ]
  },
  {
   "cell_type": "code",
   "execution_count": null,
   "id": "dda8fcc8",
   "metadata": {},
   "outputs": [],
   "source": [
    "\n",
    "#Subject of this jupyter  scirpt\n",
    "#Author of this jupyter script\n",
    "# Where to contact: github profile link or email(gmail)\n",
    "#Date of creation"
   ]
  },
  {
   "cell_type": "markdown",
   "id": "bf41ffd2",
   "metadata": {},
   "source": [
    "We use the first code\n"
   ]
  },
  {
   "cell_type": "code",
   "execution_count": 4,
   "id": "7b12e38b",
   "metadata": {},
   "outputs": [
    {
     "name": "stdout",
     "output_type": "stream",
     "text": [
      "Ammar\n"
     ]
    }
   ],
   "source": [
    "# code 1\n",
    "print(\"Ammar\")\n"
   ]
  },
  {
   "cell_type": "markdown",
   "id": "c623ba56",
   "metadata": {},
   "source": [
    "**# 1 we use the second code\n",
    "**"
   ]
  },
  {
   "cell_type": "markdown",
   "id": "464e5795",
   "metadata": {},
   "source": [
    "we used the third code here\n"
   ]
  },
  {
   "cell_type": "code",
   "execution_count": null,
   "id": "3f6a5755",
   "metadata": {},
   "outputs": [],
   "source": []
  },
  {
   "cell_type": "code",
   "execution_count": null,
   "id": "16e8afcb",
   "metadata": {},
   "outputs": [],
   "source": [
    "# code 3\n",
    "print(\"Waseem\")\n"
   ]
  },
  {
   "cell_type": "code",
   "execution_count": null,
   "id": "5076fda2",
   "metadata": {},
   "outputs": [],
   "source": []
  }
 ],
 "metadata": {
  "kernelspec": {
   "display_name": "Python 3",
   "language": "python",
   "name": "python3"
  },
  "language_info": {
   "codemirror_mode": {
    "name": "ipython",
    "version": 3
   },
   "file_extension": ".py",
   "mimetype": "text/x-python",
   "name": "python",
   "nbconvert_exporter": "python",
   "pygments_lexer": "ipython3",
   "version": "3.13.5"
  }
 },
 "nbformat": 4,
 "nbformat_minor": 5
}
